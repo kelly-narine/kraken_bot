{
 "cells": [
  {
   "cell_type": "code",
   "execution_count": null,
   "id": "ca2a1b9c",
   "metadata": {},
   "outputs": [],
   "source": [
    "from time import sleep\n",
    "import krakenex\n",
    "from pykrakenapi import KrakenAPI\n",
    "api = krakenex.API()\n",
    "kraken = KrakenAPI(api)\n",
    "\n",
    "api.load_key('KrakenPass.txt')\n",
    "\n",
    "while True:\n",
    "    \n",
    "    try:\n",
    "        BTC = kraken.get_ticker_information('BTCUSD')\n",
    "    except exception as e:\n",
    "        print(f'Unable to obtain BTC data: {e}')\n",
    "    \n",
    "    if float(BTC['b'][0][0]) >= 57300.00:\n",
    "        try:\n",
    "            ETH = float((kraken.get_ticker_information('ETHUSD'))['a'][0][0]) + 2\n",
    "            \n",
    "            response = kraken.add_standard_order(pair='ETHUSD', type='buy', ordertype='limit', \n",
    "                                                 volume='0.007', price=ETH, validate=False)\n",
    "            print(response)\n",
    "        except exception as e:\n",
    "            print(f'Error placing order {e}')\n",
    "    \n",
    "        sleep(3)\n",
    "    \n",
    "        check_order = kraken.query_orders_info(response['txid'][0])\n",
    "    \n",
    "        if check_order['status'][0] == 'open' or 'closed':\n",
    "            print('Order completed sucessfully')\n",
    "            break\n",
    "        else:\n",
    "            print('Order rejected')\n",
    "            break\n",
    "    else:\n",
    "        print('Requirement not reached')\n",
    "    \n",
    "    sleep(30)"
   ]
  },
  {
   "cell_type": "code",
   "execution_count": 4,
   "id": "aba6531a",
   "metadata": {},
   "outputs": [
    {
     "data": {
      "text/html": [
       "<div>\n",
       "<style scoped>\n",
       "    .dataframe tbody tr th:only-of-type {\n",
       "        vertical-align: middle;\n",
       "    }\n",
       "\n",
       "    .dataframe tbody tr th {\n",
       "        vertical-align: top;\n",
       "    }\n",
       "\n",
       "    .dataframe thead th {\n",
       "        text-align: right;\n",
       "    }\n",
       "</style>\n",
       "<table border=\"1\" class=\"dataframe\">\n",
       "  <thead>\n",
       "    <tr style=\"text-align: right;\">\n",
       "      <th></th>\n",
       "      <th>a</th>\n",
       "      <th>b</th>\n",
       "      <th>c</th>\n",
       "      <th>h</th>\n",
       "      <th>l</th>\n",
       "      <th>o</th>\n",
       "      <th>p</th>\n",
       "      <th>t</th>\n",
       "      <th>v</th>\n",
       "    </tr>\n",
       "  </thead>\n",
       "  <tbody>\n",
       "    <tr>\n",
       "      <th>XXBTZCAD</th>\n",
       "      <td>[54075.60000, 3, 3.000]</td>\n",
       "      <td>[54075.50000, 1, 1.000]</td>\n",
       "      <td>[54002.60000, 0.01905149]</td>\n",
       "      <td>[54073.90000, 54542.10000]</td>\n",
       "      <td>[54002.60000, 53500.00000]</td>\n",
       "      <td>54060.10000</td>\n",
       "      <td>[54024.21733, 54042.99685]</td>\n",
       "      <td>[8, 1219]</td>\n",
       "      <td>[0.17149481, 17.76280593]</td>\n",
       "    </tr>\n",
       "  </tbody>\n",
       "</table>\n",
       "</div>"
      ],
      "text/plain": [
       "                                a                        b  \\\n",
       "XXBTZCAD  [54075.60000, 3, 3.000]  [54075.50000, 1, 1.000]   \n",
       "\n",
       "                                  c                           h  \\\n",
       "XXBTZCAD  [54002.60000, 0.01905149]  [54073.90000, 54542.10000]   \n",
       "\n",
       "                                   l            o                           p  \\\n",
       "XXBTZCAD  [54002.60000, 53500.00000]  54060.10000  [54024.21733, 54042.99685]   \n",
       "\n",
       "                  t                          v  \n",
       "XXBTZCAD  [8, 1219]  [0.17149481, 17.76280593]  "
      ]
     },
     "execution_count": 4,
     "metadata": {},
     "output_type": "execute_result"
    }
   ],
   "source": [
    "from time import sleep\n",
    "import krakenex\n",
    "from pykrakenapi import KrakenAPI\n",
    "api = krakenex.API()\n",
    "kraken = KrakenAPI(api)\n",
    "\n",
    "api.load_key('KrakenPass.txt')\n",
    "BTC = kraken.get_ticker_information('BTCCAD')\n",
    "BTC\n"
   ]
  }
 ],
 "metadata": {
  "kernelspec": {
   "display_name": "Python 3",
   "language": "python",
   "name": "python3"
  },
  "language_info": {
   "codemirror_mode": {
    "name": "ipython",
    "version": 3
   },
   "file_extension": ".py",
   "mimetype": "text/x-python",
   "name": "python",
   "nbconvert_exporter": "python",
   "pygments_lexer": "ipython3",
   "version": "3.8.8"
  }
 },
 "nbformat": 4,
 "nbformat_minor": 5
}
